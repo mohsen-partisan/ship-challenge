{
 "cells": [
  {
   "cell_type": "markdown",
   "metadata": {},
   "source": [
    "# ship challenge:"
   ]
  },
  {
   "cell_type": "markdown",
   "metadata": {},
   "source": [
    "### First I import required packages"
   ]
  },
  {
   "cell_type": "code",
   "execution_count": 27,
   "metadata": {},
   "outputs": [],
   "source": [
    "import numpy as np\n",
    "import pandas as pd\n",
    "from matplotlib import pyplot as plt\n",
    "from sklearn.preprocessing import LabelEncoder\n",
    "from sklearn.preprocessing import StandardScaler\n",
    "from sklearn.model_selection import train_test_split\n",
    "from sklearn.linear_model import LinearRegression\n",
    "from sklearn.metrics import mean_squared_error\n",
    "from sklearn.svm import SVR\n",
    "\n",
    "\n",
    "\n"
   ]
  },
  {
   "cell_type": "markdown",
   "metadata": {},
   "source": [
    "## 1- Reading data and showing it:"
   ]
  },
  {
   "cell_type": "code",
   "execution_count": 28,
   "metadata": {
    "scrolled": true
   },
   "outputs": [
    {
     "name": "stdout",
     "output_type": "stream",
     "text": [
      "(158, 9)\n"
     ]
    }
   ],
   "source": [
    "data = pd.read_csv('data_info.csv')\n",
    "# show data dimension\n",
    "print(data.shape)\n"
   ]
  },
  {
   "cell_type": "code",
   "execution_count": 29,
   "metadata": {
    "scrolled": true
   },
   "outputs": [
    {
     "name": "stdout",
     "output_type": "stream",
     "text": [
      "<class 'pandas.core.frame.DataFrame'>\n",
      "RangeIndex: 158 entries, 0 to 157\n",
      "Data columns (total 9 columns):\n",
      "Ship_name            158 non-null object\n",
      "Cruise_line          158 non-null object\n",
      "Age                  158 non-null int64\n",
      "Tonnage              158 non-null float64\n",
      "passengers           158 non-null float64\n",
      "length               158 non-null float64\n",
      "cabins               158 non-null float64\n",
      "passenger_density    158 non-null float64\n",
      "crew                 158 non-null float64\n",
      "dtypes: float64(6), int64(1), object(2)\n",
      "memory usage: 11.2+ KB\n"
     ]
    }
   ],
   "source": [
    "# show data info\n",
    "data.info()"
   ]
  },
  {
   "cell_type": "code",
   "execution_count": 30,
   "metadata": {},
   "outputs": [
    {
     "name": "stdout",
     "output_type": "stream",
     "text": [
      "     Ship_name Cruise_line  Age  Tonnage  passengers  length  cabins  \\\n",
      "0      Journey     Azamara    6   30.277        6.94    5.94    3.55   \n",
      "1        Quest     Azamara    6   30.277        6.94    5.94    3.55   \n",
      "2  Celebration    Carnival   26   47.262       14.86    7.22    7.43   \n",
      "3     Conquest    Carnival   11  110.000       29.74    9.53   14.88   \n",
      "4      Destiny    Carnival   17  101.353       26.42    8.92   13.21   \n",
      "5      Ecstasy    Carnival   22   70.367       20.52    8.55   10.20   \n",
      "6      Elation    Carnival   15   70.367       20.52    8.55   10.20   \n",
      "7      Fantasy    Carnival   23   70.367       20.56    8.55   10.22   \n",
      "8  Fascination    Carnival   19   70.367       20.52    8.55   10.20   \n",
      "9      Freedom    Carnival    6  110.239       37.00    9.51   14.87   \n",
      "\n",
      "   passenger_density   crew  \n",
      "0              42.64   3.55  \n",
      "1              42.64   3.55  \n",
      "2              31.80   6.70  \n",
      "3              36.99  19.10  \n",
      "4              38.36  10.00  \n",
      "5              34.29   9.20  \n",
      "6              34.29   9.20  \n",
      "7              34.23   9.20  \n",
      "8              34.29   9.20  \n",
      "9              29.79  11.50  \n"
     ]
    }
   ],
   "source": [
    "# show first 10 rows\n",
    "print(data.head(10))"
   ]
  },
  {
   "cell_type": "markdown",
   "metadata": {},
   "source": [
    "### Conclusion:"
   ]
  },
  {
   "cell_type": "markdown",
   "metadata": {},
   "source": [
    "#### As we can see we have 9 different columns that 'Ship_name' and 'Cruise_line' are categorical and rest of them are numerical."
   ]
  },
  {
   "cell_type": "markdown",
   "metadata": {},
   "source": [
    "## 2- Data Analysis & Exploration:"
   ]
  },
  {
   "cell_type": "markdown",
   "metadata": {},
   "source": [
    "* **statistics summary for numerical values**"
   ]
  },
  {
   "cell_type": "code",
   "execution_count": 31,
   "metadata": {},
   "outputs": [
    {
     "name": "stdout",
     "output_type": "stream",
     "text": [
      "statistic summary of numerical values are: \n",
      "               Age     Tonnage  passengers      length      cabins  \\\n",
      "count  158.000000  158.000000  158.000000  158.000000  158.000000   \n",
      "mean    15.689873   71.284671   18.457405    8.130633    8.830000   \n",
      "std      7.615691   37.229540    9.677095    1.793474    4.471417   \n",
      "min      4.000000    2.329000    0.660000    2.790000    0.330000   \n",
      "25%     10.000000   46.013000   12.535000    7.100000    6.132500   \n",
      "50%     14.000000   71.899000   19.500000    8.555000    9.570000   \n",
      "75%     20.000000   90.772500   24.845000    9.510000   10.885000   \n",
      "max     48.000000  220.000000   54.000000   11.820000   27.000000   \n",
      "\n",
      "       passenger_density        crew  \n",
      "count         158.000000  158.000000  \n",
      "mean           39.900949    7.794177  \n",
      "std             8.639217    3.503487  \n",
      "min            17.700000    0.590000  \n",
      "25%            34.570000    5.480000  \n",
      "50%            39.085000    8.150000  \n",
      "75%            44.185000    9.990000  \n",
      "max            71.430000   21.000000  \n"
     ]
    }
   ],
   "source": [
    "# show statistics summary for numerical values\n",
    "statistics = data.describe()\n",
    "print('statistic summary of numerical values are:', '\\n', statistics)"
   ]
  },
  {
   "cell_type": "markdown",
   "metadata": {},
   "source": [
    "* **visualize data:** "
   ]
  },
  {
   "cell_type": "code",
   "execution_count": 32,
   "metadata": {},
   "outputs": [
    {
     "data": {
      "image/png": "[encoded data removed]",
      "text/plain": [
       "<Figure size 576x576 with 1 Axes>"
      ]
     },
     "metadata": {
      "needs_background": "light"
     },
     "output_type": "display_data"
    }
   ],
   "source": [
    "# show bar chart for 'Cruise_line' distribution \n",
    "data[\"Cruise_line\"].value_counts().plot(kind='bar', title='Cruise line Distribution', figsize=(8, 8),\n",
    "        legend=True)\n",
    "plt.show()"
   ]
  },
  {
   "cell_type": "code",
   "execution_count": 33,
   "metadata": {
    "scrolled": true
   },
   "outputs": [
    {
     "data": {
      "text/plain": [
       "array([[<matplotlib.axes._subplots.AxesSubplot object at 0x7fa1a5cccd68>,\n",
       "        <matplotlib.axes._subplots.AxesSubplot object at 0x7fa1a566de10>,\n",
       "        <matplotlib.axes._subplots.AxesSubplot object at 0x7fa199341e10>],\n",
       "       [<matplotlib.axes._subplots.AxesSubplot object at 0x7fa1992fd400>,\n",
       "        <matplotlib.axes._subplots.AxesSubplot object at 0x7fa1992af9b0>,\n",
       "        <matplotlib.axes._subplots.AxesSubplot object at 0x7fa199261f60>],\n",
       "       [<matplotlib.axes._subplots.AxesSubplot object at 0x7fa19921d550>,\n",
       "        <matplotlib.axes._subplots.AxesSubplot object at 0x7fa1991d1b38>,\n",
       "        <matplotlib.axes._subplots.AxesSubplot object at 0x7fa1991d1b70>]],\n",
       "      dtype=object)"
      ]
     },
     "execution_count": 33,
     "metadata": {},
     "output_type": "execute_result"
    },
    {
     "data": {
      "image/png": "[encoded data removed]",
      "text/plain": [
       "<Figure size 864x864 with 9 Axes>"
      ]
     },
     "metadata": {
      "needs_background": "light"
     },
     "output_type": "display_data"
    }
   ],
   "source": [
    "# show histogram for all numerical columns\n",
    "data.hist(figsize=(12, 12))\n"
   ]
  },
  {
   "cell_type": "markdown",
   "metadata": {},
   "source": [
    "### Conclusion:"
   ]
  },
  {
   "cell_type": "markdown",
   "metadata": {},
   "source": [
    "* **I used barchart for compare different values of 'Cruise_line' column and also summary statistics to see different statistic values for numerical features an draw histogram per numerical features to better understad value distributions.**"
   ]
  },
  {
   "cell_type": "markdown",
   "metadata": {},
   "source": [
    "## 3-Remove unnecessary columns & transformations:"
   ]
  },
  {
   "cell_type": "code",
   "execution_count": 34,
   "metadata": {},
   "outputs": [],
   "source": [
    "# remove 'Ship_name' column\n",
    "data = data.drop(columns=['Ship_name'])\n",
    "\n",
    "\n"
   ]
  },
  {
   "cell_type": "code",
   "execution_count": 35,
   "metadata": {},
   "outputs": [],
   "source": [
    "# Encode Categorical columns to numerical \n",
    "label_encoder = LabelEncoder()\n",
    "data['Cruise_line'] = label_encoder.fit_transform(data['Cruise_line'])\n",
    "\n"
   ]
  },
  {
   "cell_type": "code",
   "execution_count": 36,
   "metadata": {},
   "outputs": [],
   "source": [
    "# Normalize numerical values \n",
    "from sklearn import preprocessing\n",
    "\n",
    "encoded_columns = data['Cruise_line']\n",
    "target_column = data['crew']\n",
    "column_names = list(data[data.columns[1:7]])\n",
    "x = data[data.columns[1:7]].values #returns a numpy array\n",
    "min_max_scaler = preprocessing.MinMaxScaler()\n",
    "x_scaled = min_max_scaler.fit_transform(x)\n",
    "df = pd.DataFrame(x_scaled, columns=column_names)\n",
    "data = pd.concat([encoded_columns, df], axis=1)\n",
    "data = pd.concat([data, target_column], axis=1)"
   ]
  },
  {
   "cell_type": "code",
   "execution_count": 37,
   "metadata": {},
   "outputs": [
    {
     "data": {
      "text/html": [
       "<div>\n",
       "<style scoped>\n",
       "    .dataframe tbody tr th:only-of-type {\n",
       "        vertical-align: middle;\n",
       "    }\n",
       "\n",
       "    .dataframe tbody tr th {\n",
       "        vertical-align: top;\n",
       "    }\n",
       "\n",
       "    .dataframe thead th {\n",
       "        text-align: right;\n",
       "    }\n",
       "</style>\n",
       "<table border=\"1\" class=\"dataframe\">\n",
       "  <thead>\n",
       "    <tr style=\"text-align: right;\">\n",
       "      <th></th>\n",
       "      <th>Cruise_line</th>\n",
       "      <th>Age</th>\n",
       "      <th>Tonnage</th>\n",
       "      <th>passengers</th>\n",
       "      <th>length</th>\n",
       "      <th>cabins</th>\n",
       "      <th>passenger_density</th>\n",
       "      <th>crew</th>\n",
       "    </tr>\n",
       "  </thead>\n",
       "  <tbody>\n",
       "    <tr>\n",
       "      <th>0</th>\n",
       "      <td>0</td>\n",
       "      <td>0.045455</td>\n",
       "      <td>0.128396</td>\n",
       "      <td>0.117735</td>\n",
       "      <td>0.348837</td>\n",
       "      <td>0.120735</td>\n",
       "      <td>0.464173</td>\n",
       "      <td>3.55</td>\n",
       "    </tr>\n",
       "    <tr>\n",
       "      <th>1</th>\n",
       "      <td>0</td>\n",
       "      <td>0.045455</td>\n",
       "      <td>0.128396</td>\n",
       "      <td>0.117735</td>\n",
       "      <td>0.348837</td>\n",
       "      <td>0.120735</td>\n",
       "      <td>0.464173</td>\n",
       "      <td>3.55</td>\n",
       "    </tr>\n",
       "    <tr>\n",
       "      <th>2</th>\n",
       "      <td>1</td>\n",
       "      <td>0.500000</td>\n",
       "      <td>0.206426</td>\n",
       "      <td>0.266217</td>\n",
       "      <td>0.490587</td>\n",
       "      <td>0.266217</td>\n",
       "      <td>0.262423</td>\n",
       "      <td>6.70</td>\n",
       "    </tr>\n",
       "    <tr>\n",
       "      <th>3</th>\n",
       "      <td>1</td>\n",
       "      <td>0.159091</td>\n",
       "      <td>0.494650</td>\n",
       "      <td>0.545182</td>\n",
       "      <td>0.746401</td>\n",
       "      <td>0.545557</td>\n",
       "      <td>0.359017</td>\n",
       "      <td>19.10</td>\n",
       "    </tr>\n",
       "    <tr>\n",
       "      <th>4</th>\n",
       "      <td>1</td>\n",
       "      <td>0.295455</td>\n",
       "      <td>0.454925</td>\n",
       "      <td>0.482940</td>\n",
       "      <td>0.678848</td>\n",
       "      <td>0.482940</td>\n",
       "      <td>0.384515</td>\n",
       "      <td>10.00</td>\n",
       "    </tr>\n",
       "    <tr>\n",
       "      <th>5</th>\n",
       "      <td>1</td>\n",
       "      <td>0.409091</td>\n",
       "      <td>0.312573</td>\n",
       "      <td>0.372328</td>\n",
       "      <td>0.637874</td>\n",
       "      <td>0.370079</td>\n",
       "      <td>0.308766</td>\n",
       "      <td>9.20</td>\n",
       "    </tr>\n",
       "    <tr>\n",
       "      <th>6</th>\n",
       "      <td>1</td>\n",
       "      <td>0.250000</td>\n",
       "      <td>0.312573</td>\n",
       "      <td>0.372328</td>\n",
       "      <td>0.637874</td>\n",
       "      <td>0.370079</td>\n",
       "      <td>0.308766</td>\n",
       "      <td>9.20</td>\n",
       "    </tr>\n",
       "    <tr>\n",
       "      <th>7</th>\n",
       "      <td>1</td>\n",
       "      <td>0.431818</td>\n",
       "      <td>0.312573</td>\n",
       "      <td>0.373078</td>\n",
       "      <td>0.637874</td>\n",
       "      <td>0.370829</td>\n",
       "      <td>0.307649</td>\n",
       "      <td>9.20</td>\n",
       "    </tr>\n",
       "    <tr>\n",
       "      <th>8</th>\n",
       "      <td>1</td>\n",
       "      <td>0.340909</td>\n",
       "      <td>0.312573</td>\n",
       "      <td>0.372328</td>\n",
       "      <td>0.637874</td>\n",
       "      <td>0.370079</td>\n",
       "      <td>0.308766</td>\n",
       "      <td>9.20</td>\n",
       "    </tr>\n",
       "    <tr>\n",
       "      <th>9</th>\n",
       "      <td>1</td>\n",
       "      <td>0.045455</td>\n",
       "      <td>0.495748</td>\n",
       "      <td>0.681290</td>\n",
       "      <td>0.744186</td>\n",
       "      <td>0.545182</td>\n",
       "      <td>0.225014</td>\n",
       "      <td>11.50</td>\n",
       "    </tr>\n",
       "    <tr>\n",
       "      <th>10</th>\n",
       "      <td>1</td>\n",
       "      <td>0.136364</td>\n",
       "      <td>0.494650</td>\n",
       "      <td>0.545182</td>\n",
       "      <td>0.744186</td>\n",
       "      <td>0.545182</td>\n",
       "      <td>0.359017</td>\n",
       "      <td>11.60</td>\n",
       "    </tr>\n",
       "    <tr>\n",
       "      <th>11</th>\n",
       "      <td>1</td>\n",
       "      <td>0.545455</td>\n",
       "      <td>0.200867</td>\n",
       "      <td>0.259843</td>\n",
       "      <td>0.496124</td>\n",
       "      <td>0.259843</td>\n",
       "      <td>0.260934</td>\n",
       "      <td>6.60</td>\n",
       "    </tr>\n",
       "    <tr>\n",
       "      <th>12</th>\n",
       "      <td>1</td>\n",
       "      <td>0.318182</td>\n",
       "      <td>0.312573</td>\n",
       "      <td>0.372328</td>\n",
       "      <td>0.637874</td>\n",
       "      <td>0.370079</td>\n",
       "      <td>0.308766</td>\n",
       "      <td>9.20</td>\n",
       "    </tr>\n",
       "    <tr>\n",
       "      <th>13</th>\n",
       "      <td>1</td>\n",
       "      <td>0.295455</td>\n",
       "      <td>0.312573</td>\n",
       "      <td>0.372328</td>\n",
       "      <td>0.637874</td>\n",
       "      <td>0.370079</td>\n",
       "      <td>0.308766</td>\n",
       "      <td>9.20</td>\n",
       "    </tr>\n",
       "    <tr>\n",
       "      <th>14</th>\n",
       "      <td>1</td>\n",
       "      <td>0.159091</td>\n",
       "      <td>0.384392</td>\n",
       "      <td>0.385827</td>\n",
       "      <td>0.757475</td>\n",
       "      <td>0.385827</td>\n",
       "      <td>0.424158</td>\n",
       "      <td>9.30</td>\n",
       "    </tr>\n",
       "    <tr>\n",
       "      <th>15</th>\n",
       "      <td>1</td>\n",
       "      <td>0.090909</td>\n",
       "      <td>0.494650</td>\n",
       "      <td>0.545182</td>\n",
       "      <td>0.744186</td>\n",
       "      <td>0.545182</td>\n",
       "      <td>0.359017</td>\n",
       "      <td>11.60</td>\n",
       "    </tr>\n",
       "    <tr>\n",
       "      <th>16</th>\n",
       "      <td>1</td>\n",
       "      <td>0.113636</td>\n",
       "      <td>0.395877</td>\n",
       "      <td>0.385827</td>\n",
       "      <td>0.757475</td>\n",
       "      <td>0.385827</td>\n",
       "      <td>0.446119</td>\n",
       "      <td>10.30</td>\n",
       "    </tr>\n",
       "    <tr>\n",
       "      <th>17</th>\n",
       "      <td>1</td>\n",
       "      <td>0.250000</td>\n",
       "      <td>0.312573</td>\n",
       "      <td>0.372328</td>\n",
       "      <td>0.637874</td>\n",
       "      <td>0.370079</td>\n",
       "      <td>0.308766</td>\n",
       "      <td>9.20</td>\n",
       "    </tr>\n",
       "    <tr>\n",
       "      <th>18</th>\n",
       "      <td>1</td>\n",
       "      <td>0.181818</td>\n",
       "      <td>0.395877</td>\n",
       "      <td>0.385827</td>\n",
       "      <td>0.757475</td>\n",
       "      <td>0.423322</td>\n",
       "      <td>0.446119</td>\n",
       "      <td>9.30</td>\n",
       "    </tr>\n",
       "    <tr>\n",
       "      <th>19</th>\n",
       "      <td>1</td>\n",
       "      <td>0.363636</td>\n",
       "      <td>0.312573</td>\n",
       "      <td>0.372328</td>\n",
       "      <td>0.637874</td>\n",
       "      <td>0.370079</td>\n",
       "      <td>0.308766</td>\n",
       "      <td>9.20</td>\n",
       "    </tr>\n",
       "  </tbody>\n",
       "</table>\n",
       "</div>"
      ],
      "text/plain": [
       "    Cruise_line       Age   Tonnage  passengers    length    cabins  \\\n",
       "0             0  0.045455  0.128396    0.117735  0.348837  0.120735   \n",
       "1             0  0.045455  0.128396    0.117735  0.348837  0.120735   \n",
       "2             1  0.500000  0.206426    0.266217  0.490587  0.266217   \n",
       "3             1  0.159091  0.494650    0.545182  0.746401  0.545557   \n",
       "4             1  0.295455  0.454925    0.482940  0.678848  0.482940   \n",
       "5             1  0.409091  0.312573    0.372328  0.637874  0.370079   \n",
       "6             1  0.250000  0.312573    0.372328  0.637874  0.370079   \n",
       "7             1  0.431818  0.312573    0.373078  0.637874  0.370829   \n",
       "8             1  0.340909  0.312573    0.372328  0.637874  0.370079   \n",
       "9             1  0.045455  0.495748    0.681290  0.744186  0.545182   \n",
       "10            1  0.136364  0.494650    0.545182  0.744186  0.545182   \n",
       "11            1  0.545455  0.200867    0.259843  0.496124  0.259843   \n",
       "12            1  0.318182  0.312573    0.372328  0.637874  0.370079   \n",
       "13            1  0.295455  0.312573    0.372328  0.637874  0.370079   \n",
       "14            1  0.159091  0.384392    0.385827  0.757475  0.385827   \n",
       "15            1  0.090909  0.494650    0.545182  0.744186  0.545182   \n",
       "16            1  0.113636  0.395877    0.385827  0.757475  0.385827   \n",
       "17            1  0.250000  0.312573    0.372328  0.637874  0.370079   \n",
       "18            1  0.181818  0.395877    0.385827  0.757475  0.423322   \n",
       "19            1  0.363636  0.312573    0.372328  0.637874  0.370079   \n",
       "\n",
       "    passenger_density   crew  \n",
       "0            0.464173   3.55  \n",
       "1            0.464173   3.55  \n",
       "2            0.262423   6.70  \n",
       "3            0.359017  19.10  \n",
       "4            0.384515  10.00  \n",
       "5            0.308766   9.20  \n",
       "6            0.308766   9.20  \n",
       "7            0.307649   9.20  \n",
       "8            0.308766   9.20  \n",
       "9            0.225014  11.50  \n",
       "10           0.359017  11.60  \n",
       "11           0.260934   6.60  \n",
       "12           0.308766   9.20  \n",
       "13           0.308766   9.20  \n",
       "14           0.424158   9.30  \n",
       "15           0.359017  11.60  \n",
       "16           0.446119  10.30  \n",
       "17           0.308766   9.20  \n",
       "18           0.446119   9.30  \n",
       "19           0.308766   9.20  "
      ]
     },
     "execution_count": 37,
     "metadata": {},
     "output_type": "execute_result"
    }
   ],
   "source": [
    "# preview first 20 rows \n",
    "data[0:20]\n"
   ]
  },
  {
   "cell_type": "markdown",
   "metadata": {},
   "source": [
    "### Conclusion:"
   ]
  },
  {
   "cell_type": "markdown",
   "metadata": {},
   "source": [
    "* **I removed 'ship_name' column for prediction because its unnecessary. Later I encode 'Cruise_line' feature to numerical.(its better to using 'One-Hot Encoding' instesd of 'LabelEncoder'). Then numerical features normalized between (0, 1)**"
   ]
  },
  {
   "cell_type": "markdown",
   "metadata": {},
   "source": [
    "## 4-Train & Test Split:"
   ]
  },
  {
   "cell_type": "markdown",
   "metadata": {},
   "source": [
    "#### %60 for train & %40 for test:"
   ]
  },
  {
   "cell_type": "code",
   "execution_count": 38,
   "metadata": {},
   "outputs": [],
   "source": [
    "# Create train & test data\n",
    "X_train, X_test, Y_train, Y_test = train_test_split(data[data.columns[0:7]], data['crew'], \n",
    "                                                    test_size=0.4, random_state=7)"
   ]
  },
  {
   "cell_type": "markdown",
   "metadata": {},
   "source": [
    "#### Preview predictor & target values for test data:"
   ]
  },
  {
   "cell_type": "code",
   "execution_count": 39,
   "metadata": {},
   "outputs": [
    {
     "data": {
      "text/html": [
       "<div>\n",
       "<style scoped>\n",
       "    .dataframe tbody tr th:only-of-type {\n",
       "        vertical-align: middle;\n",
       "    }\n",
       "\n",
       "    .dataframe tbody tr th {\n",
       "        vertical-align: top;\n",
       "    }\n",
       "\n",
       "    .dataframe thead th {\n",
       "        text-align: right;\n",
       "    }\n",
       "</style>\n",
       "<table border=\"1\" class=\"dataframe\">\n",
       "  <thead>\n",
       "    <tr style=\"text-align: right;\">\n",
       "      <th></th>\n",
       "      <th>Cruise_line</th>\n",
       "      <th>Age</th>\n",
       "      <th>Tonnage</th>\n",
       "      <th>passengers</th>\n",
       "      <th>length</th>\n",
       "      <th>cabins</th>\n",
       "      <th>passenger_density</th>\n",
       "    </tr>\n",
       "  </thead>\n",
       "  <tbody>\n",
       "    <tr>\n",
       "      <th>149</th>\n",
       "      <td>18</td>\n",
       "      <td>0.409091</td>\n",
       "      <td>0.004649</td>\n",
       "      <td>0.000000</td>\n",
       "      <td>0.001107</td>\n",
       "      <td>0.000000</td>\n",
       "      <td>0.612693</td>\n",
       "    </tr>\n",
       "    <tr>\n",
       "      <th>86</th>\n",
       "      <td>9</td>\n",
       "      <td>0.363636</td>\n",
       "      <td>0.222496</td>\n",
       "      <td>0.315336</td>\n",
       "      <td>0.526024</td>\n",
       "      <td>0.315336</td>\n",
       "      <td>0.211055</td>\n",
       "    </tr>\n",
       "    <tr>\n",
       "      <th>63</th>\n",
       "      <td>7</td>\n",
       "      <td>0.522727</td>\n",
       "      <td>0.236793</td>\n",
       "      <td>0.267717</td>\n",
       "      <td>0.574751</td>\n",
       "      <td>0.267717</td>\n",
       "      <td>0.341709</td>\n",
       "    </tr>\n",
       "    <tr>\n",
       "      <th>80</th>\n",
       "      <td>9</td>\n",
       "      <td>0.227273</td>\n",
       "      <td>0.343523</td>\n",
       "      <td>0.362955</td>\n",
       "      <td>0.635659</td>\n",
       "      <td>0.362955</td>\n",
       "      <td>0.387307</td>\n",
       "    </tr>\n",
       "    <tr>\n",
       "      <th>107</th>\n",
       "      <td>13</td>\n",
       "      <td>0.409091</td>\n",
       "      <td>0.310175</td>\n",
       "      <td>0.285714</td>\n",
       "      <td>0.580288</td>\n",
       "      <td>0.285714</td>\n",
       "      <td>0.488182</td>\n",
       "    </tr>\n",
       "  </tbody>\n",
       "</table>\n",
       "</div>"
      ],
      "text/plain": [
       "     Cruise_line       Age   Tonnage  passengers    length    cabins  \\\n",
       "149           18  0.409091  0.004649    0.000000  0.001107  0.000000   \n",
       "86             9  0.363636  0.222496    0.315336  0.526024  0.315336   \n",
       "63             7  0.522727  0.236793    0.267717  0.574751  0.267717   \n",
       "80             9  0.227273  0.343523    0.362955  0.635659  0.362955   \n",
       "107           13  0.409091  0.310175    0.285714  0.580288  0.285714   \n",
       "\n",
       "     passenger_density  \n",
       "149           0.612693  \n",
       "86            0.211055  \n",
       "63            0.341709  \n",
       "80            0.387307  \n",
       "107           0.488182  "
      ]
     },
     "execution_count": 39,
     "metadata": {},
     "output_type": "execute_result"
    }
   ],
   "source": [
    "# show predictor values for test\n",
    "X_test[0:5]"
   ]
  },
  {
   "cell_type": "code",
   "execution_count": 40,
   "metadata": {},
   "outputs": [
    {
     "data": {
      "text/plain": [
       "149    0.59\n",
       "86     6.14\n",
       "63     6.12\n",
       "80     8.00\n",
       "107    6.96\n",
       "Name: crew, dtype: float64"
      ]
     },
     "execution_count": 40,
     "metadata": {},
     "output_type": "execute_result"
    }
   ],
   "source": [
    "# show target values for test\n",
    "\n",
    "Y_test[0:5]"
   ]
  },
  {
   "cell_type": "markdown",
   "metadata": {},
   "source": [
    "### Conclusion:"
   ]
  },
  {
   "cell_type": "markdown",
   "metadata": {},
   "source": [
    "* **I splitted train & test data and then preview them for test phase**"
   ]
  },
  {
   "cell_type": "markdown",
   "metadata": {},
   "source": [
    "## 5-Create Model:"
   ]
  },
  {
   "cell_type": "markdown",
   "metadata": {},
   "source": [
    "### Model-1: Simple Linear Regression:"
   ]
  },
  {
   "cell_type": "code",
   "execution_count": 41,
   "metadata": {},
   "outputs": [
    {
     "data": {
      "text/plain": [
       "LinearRegression(copy_X=True, fit_intercept=True, n_jobs=None, normalize=False)"
      ]
     },
     "execution_count": 41,
     "metadata": {},
     "output_type": "execute_result"
    }
   ],
   "source": [
    "# Simple Linear Regression\n",
    "reg_model = LinearRegression()\n",
    "# train model\n",
    "reg_model.fit(X_train, Y_train)\n",
    "\n",
    "\n"
   ]
  },
  {
   "cell_type": "code",
   "execution_count": 42,
   "metadata": {},
   "outputs": [],
   "source": [
    "# predict using model\n",
    "predicted_values_reg = reg_model.predict(X_test)"
   ]
  },
  {
   "cell_type": "code",
   "execution_count": 43,
   "metadata": {},
   "outputs": [
    {
     "data": {
      "text/plain": [
       "1.2031480879813663"
      ]
     },
     "execution_count": 43,
     "metadata": {},
     "output_type": "execute_result"
    }
   ],
   "source": [
    "# evaluate model \n",
    "mean_squared_error(Y_test, predicted_values_reg, squared=False)"
   ]
  },
  {
   "cell_type": "code",
   "execution_count": 44,
   "metadata": {
    "scrolled": false
   },
   "outputs": [
    {
     "data": {
      "text/html": [
       "<div>\n",
       "<style scoped>\n",
       "    .dataframe tbody tr th:only-of-type {\n",
       "        vertical-align: middle;\n",
       "    }\n",
       "\n",
       "    .dataframe tbody tr th {\n",
       "        vertical-align: top;\n",
       "    }\n",
       "\n",
       "    .dataframe thead th {\n",
       "        text-align: right;\n",
       "    }\n",
       "</style>\n",
       "<table border=\"1\" class=\"dataframe\">\n",
       "  <thead>\n",
       "    <tr style=\"text-align: right;\">\n",
       "      <th></th>\n",
       "      <th>crew</th>\n",
       "      <th>predicted_crew</th>\n",
       "    </tr>\n",
       "  </thead>\n",
       "  <tbody>\n",
       "    <tr>\n",
       "      <th>149</th>\n",
       "      <td>0.59</td>\n",
       "      <td>0.361849</td>\n",
       "    </tr>\n",
       "    <tr>\n",
       "      <th>86</th>\n",
       "      <td>6.14</td>\n",
       "      <td>7.279726</td>\n",
       "    </tr>\n",
       "    <tr>\n",
       "      <th>63</th>\n",
       "      <td>6.12</td>\n",
       "      <td>6.999682</td>\n",
       "    </tr>\n",
       "    <tr>\n",
       "      <th>80</th>\n",
       "      <td>8.00</td>\n",
       "      <td>8.720491</td>\n",
       "    </tr>\n",
       "    <tr>\n",
       "      <th>107</th>\n",
       "      <td>6.96</td>\n",
       "      <td>7.388980</td>\n",
       "    </tr>\n",
       "    <tr>\n",
       "      <th>74</th>\n",
       "      <td>4.70</td>\n",
       "      <td>4.696999</td>\n",
       "    </tr>\n",
       "    <tr>\n",
       "      <th>88</th>\n",
       "      <td>4.00</td>\n",
       "      <td>3.903067</td>\n",
       "    </tr>\n",
       "    <tr>\n",
       "      <th>115</th>\n",
       "      <td>4.45</td>\n",
       "      <td>5.078121</td>\n",
       "    </tr>\n",
       "    <tr>\n",
       "      <th>146</th>\n",
       "      <td>2.95</td>\n",
       "      <td>3.460218</td>\n",
       "    </tr>\n",
       "    <tr>\n",
       "      <th>62</th>\n",
       "      <td>5.61</td>\n",
       "      <td>6.937512</td>\n",
       "    </tr>\n",
       "    <tr>\n",
       "      <th>109</th>\n",
       "      <td>12.38</td>\n",
       "      <td>11.075086</td>\n",
       "    </tr>\n",
       "    <tr>\n",
       "      <th>95</th>\n",
       "      <td>7.94</td>\n",
       "      <td>8.175300</td>\n",
       "    </tr>\n",
       "    <tr>\n",
       "      <th>13</th>\n",
       "      <td>9.20</td>\n",
       "      <td>8.774097</td>\n",
       "    </tr>\n",
       "    <tr>\n",
       "      <th>24</th>\n",
       "      <td>8.58</td>\n",
       "      <td>7.869244</td>\n",
       "    </tr>\n",
       "    <tr>\n",
       "      <th>125</th>\n",
       "      <td>7.60</td>\n",
       "      <td>8.933155</td>\n",
       "    </tr>\n",
       "    <tr>\n",
       "      <th>157</th>\n",
       "      <td>1.80</td>\n",
       "      <td>3.067316</td>\n",
       "    </tr>\n",
       "    <tr>\n",
       "      <th>70</th>\n",
       "      <td>9.87</td>\n",
       "      <td>10.762829</td>\n",
       "    </tr>\n",
       "    <tr>\n",
       "      <th>11</th>\n",
       "      <td>6.60</td>\n",
       "      <td>6.404472</td>\n",
       "    </tr>\n",
       "    <tr>\n",
       "      <th>51</th>\n",
       "      <td>9.45</td>\n",
       "      <td>8.954010</td>\n",
       "    </tr>\n",
       "    <tr>\n",
       "      <th>49</th>\n",
       "      <td>9.00</td>\n",
       "      <td>9.788694</td>\n",
       "    </tr>\n",
       "  </tbody>\n",
       "</table>\n",
       "</div>"
      ],
      "text/plain": [
       "      crew  predicted_crew\n",
       "149   0.59        0.361849\n",
       "86    6.14        7.279726\n",
       "63    6.12        6.999682\n",
       "80    8.00        8.720491\n",
       "107   6.96        7.388980\n",
       "74    4.70        4.696999\n",
       "88    4.00        3.903067\n",
       "115   4.45        5.078121\n",
       "146   2.95        3.460218\n",
       "62    5.61        6.937512\n",
       "109  12.38       11.075086\n",
       "95    7.94        8.175300\n",
       "13    9.20        8.774097\n",
       "24    8.58        7.869244\n",
       "125   7.60        8.933155\n",
       "157   1.80        3.067316\n",
       "70    9.87       10.762829\n",
       "11    6.60        6.404472\n",
       "51    9.45        8.954010\n",
       "49    9.00        9.788694"
      ]
     },
     "execution_count": 44,
     "metadata": {},
     "output_type": "execute_result"
    }
   ],
   "source": [
    "# add predicted_values to dataframe\n",
    "result_reg = pd.DataFrame(Y_test, columns=['crew'])\n",
    "result_reg['predicted_crew'] = predicted_values_reg\n",
    "result_reg[0:20]"
   ]
  },
  {
   "cell_type": "markdown",
   "metadata": {},
   "source": [
    "### Model-2: Support Vector Regression:"
   ]
  },
  {
   "cell_type": "code",
   "execution_count": 45,
   "metadata": {},
   "outputs": [
    {
     "data": {
      "text/plain": [
       "SVR(C=1.0, cache_size=200, coef0=0.0, degree=3, epsilon=0.1, gamma='scale',\n",
       "    kernel='linear', max_iter=-1, shrinking=True, tol=0.001, verbose=False)"
      ]
     },
     "execution_count": 45,
     "metadata": {},
     "output_type": "execute_result"
    }
   ],
   "source": [
    "svr_model = SVR(kernel='linear')\n",
    "svr_model.fit(X_train, Y_train)"
   ]
  },
  {
   "cell_type": "code",
   "execution_count": 46,
   "metadata": {},
   "outputs": [],
   "source": [
    "predicted_values_svr = svr_model.predict(X_test)"
   ]
  },
  {
   "cell_type": "code",
   "execution_count": 47,
   "metadata": {},
   "outputs": [
    {
     "data": {
      "text/plain": [
       "1.3354879010804388"
      ]
     },
     "execution_count": 47,
     "metadata": {},
     "output_type": "execute_result"
    }
   ],
   "source": [
    "mean_squared_error(Y_test, predicted_values_svr, squared=False)"
   ]
  },
  {
   "cell_type": "code",
   "execution_count": 48,
   "metadata": {
    "scrolled": true
   },
   "outputs": [
    {
     "data": {
      "text/html": [
       "<div>\n",
       "<style scoped>\n",
       "    .dataframe tbody tr th:only-of-type {\n",
       "        vertical-align: middle;\n",
       "    }\n",
       "\n",
       "    .dataframe tbody tr th {\n",
       "        vertical-align: top;\n",
       "    }\n",
       "\n",
       "    .dataframe thead th {\n",
       "        text-align: right;\n",
       "    }\n",
       "</style>\n",
       "<table border=\"1\" class=\"dataframe\">\n",
       "  <thead>\n",
       "    <tr style=\"text-align: right;\">\n",
       "      <th></th>\n",
       "      <th>crew</th>\n",
       "      <th>predicted_crew</th>\n",
       "    </tr>\n",
       "  </thead>\n",
       "  <tbody>\n",
       "    <tr>\n",
       "      <th>149</th>\n",
       "      <td>0.59</td>\n",
       "      <td>0.420516</td>\n",
       "    </tr>\n",
       "    <tr>\n",
       "      <th>86</th>\n",
       "      <td>6.14</td>\n",
       "      <td>6.716086</td>\n",
       "    </tr>\n",
       "    <tr>\n",
       "      <th>63</th>\n",
       "      <td>6.12</td>\n",
       "      <td>6.577906</td>\n",
       "    </tr>\n",
       "    <tr>\n",
       "      <th>80</th>\n",
       "      <td>8.00</td>\n",
       "      <td>8.285885</td>\n",
       "    </tr>\n",
       "    <tr>\n",
       "      <th>107</th>\n",
       "      <td>6.96</td>\n",
       "      <td>6.801572</td>\n",
       "    </tr>\n",
       "    <tr>\n",
       "      <th>74</th>\n",
       "      <td>4.70</td>\n",
       "      <td>4.561805</td>\n",
       "    </tr>\n",
       "    <tr>\n",
       "      <th>88</th>\n",
       "      <td>4.00</td>\n",
       "      <td>4.178242</td>\n",
       "    </tr>\n",
       "    <tr>\n",
       "      <th>115</th>\n",
       "      <td>4.45</td>\n",
       "      <td>5.012961</td>\n",
       "    </tr>\n",
       "    <tr>\n",
       "      <th>146</th>\n",
       "      <td>2.95</td>\n",
       "      <td>3.260761</td>\n",
       "    </tr>\n",
       "    <tr>\n",
       "      <th>62</th>\n",
       "      <td>5.61</td>\n",
       "      <td>6.982018</td>\n",
       "    </tr>\n",
       "    <tr>\n",
       "      <th>109</th>\n",
       "      <td>12.38</td>\n",
       "      <td>10.310299</td>\n",
       "    </tr>\n",
       "    <tr>\n",
       "      <th>95</th>\n",
       "      <td>7.94</td>\n",
       "      <td>7.579782</td>\n",
       "    </tr>\n",
       "    <tr>\n",
       "      <th>13</th>\n",
       "      <td>9.20</td>\n",
       "      <td>8.689549</td>\n",
       "    </tr>\n",
       "    <tr>\n",
       "      <th>24</th>\n",
       "      <td>8.58</td>\n",
       "      <td>7.996988</td>\n",
       "    </tr>\n",
       "    <tr>\n",
       "      <th>125</th>\n",
       "      <td>7.60</td>\n",
       "      <td>7.952757</td>\n",
       "    </tr>\n",
       "    <tr>\n",
       "      <th>157</th>\n",
       "      <td>1.80</td>\n",
       "      <td>2.540955</td>\n",
       "    </tr>\n",
       "    <tr>\n",
       "      <th>70</th>\n",
       "      <td>9.87</td>\n",
       "      <td>10.123806</td>\n",
       "    </tr>\n",
       "    <tr>\n",
       "      <th>11</th>\n",
       "      <td>6.60</td>\n",
       "      <td>6.393352</td>\n",
       "    </tr>\n",
       "    <tr>\n",
       "      <th>51</th>\n",
       "      <td>9.45</td>\n",
       "      <td>8.818217</td>\n",
       "    </tr>\n",
       "    <tr>\n",
       "      <th>49</th>\n",
       "      <td>9.00</td>\n",
       "      <td>9.662116</td>\n",
       "    </tr>\n",
       "  </tbody>\n",
       "</table>\n",
       "</div>"
      ],
      "text/plain": [
       "      crew  predicted_crew\n",
       "149   0.59        0.420516\n",
       "86    6.14        6.716086\n",
       "63    6.12        6.577906\n",
       "80    8.00        8.285885\n",
       "107   6.96        6.801572\n",
       "74    4.70        4.561805\n",
       "88    4.00        4.178242\n",
       "115   4.45        5.012961\n",
       "146   2.95        3.260761\n",
       "62    5.61        6.982018\n",
       "109  12.38       10.310299\n",
       "95    7.94        7.579782\n",
       "13    9.20        8.689549\n",
       "24    8.58        7.996988\n",
       "125   7.60        7.952757\n",
       "157   1.80        2.540955\n",
       "70    9.87       10.123806\n",
       "11    6.60        6.393352\n",
       "51    9.45        8.818217\n",
       "49    9.00        9.662116"
      ]
     },
     "execution_count": 48,
     "metadata": {},
     "output_type": "execute_result"
    }
   ],
   "source": [
    "# add predicted_values to dataframe\n",
    "result_svr = pd.DataFrame(Y_test, columns=['crew'])\n",
    "result_svr['predicted_crew'] = predicted_values_svr\n",
    "result_svr[0:20]"
   ]
  },
  {
   "cell_type": "markdown",
   "metadata": {},
   "source": [
    "### Conclusion:"
   ]
  },
  {
   "cell_type": "markdown",
   "metadata": {},
   "source": [
    "* **I created two different model for better comparision. in linear model 'rmse' is about '1.20' but in support vector regression with 'linear' kernel 'rmse' is about '1.33'. If i change 'linear' kernel in svr to 'rbf' or whatever, 'rmse' goes up to '3' or '4'. I can suppose the relation between features and target is linear. In svr there are some hyper parameters like 'Gamma', 'C', 'epsilon'. for better tuning we can use random search or grid search for best parameters but it takes time and no need to do here.**"
   ]
  },
  {
   "cell_type": "markdown",
   "metadata": {},
   "source": [
    "## 6-pearson corelation coefficient:"
   ]
  },
  {
   "cell_type": "code",
   "execution_count": 49,
   "metadata": {},
   "outputs": [],
   "source": [
    "# a method for calculate & visualize pearson correlation coefficient\n",
    "def corr_heatmap(data):    \n",
    "    names = list(data)\n",
    "    correlations = data.corr()\n",
    "    # plot correlation matrix\n",
    "    fig = plt.figure(figsize=(10, 10))\n",
    "    ax = fig.add_subplot(111)\n",
    "    cax = ax.matshow(correlations, vmin=-1, vmax=1)\n",
    "    fig.colorbar(cax)\n",
    "    ticks = np.arange(0, len(data.columns), 1)\n",
    "    ax.set_xticks(ticks)\n",
    "    ax.set_yticks(ticks)\n",
    "    ax.set_xticklabels(names)\n",
    "    ax.set_yticklabels(names)\n",
    "    plt.show()"
   ]
  },
  {
   "cell_type": "code",
   "execution_count": 50,
   "metadata": {},
   "outputs": [
    {
     "data": {
      "image/png": "[encoded data removed]",
      "text/plain": [
       "<Figure size 720x720 with 2 Axes>"
      ]
     },
     "metadata": {
      "needs_background": "light"
     },
     "output_type": "display_data"
    }
   ],
   "source": [
    "# data train correlations\n",
    "# remove categorical column\n",
    "data= X_train.drop(columns=['Cruise_line'])\n",
    "corr_heatmap(data)"
   ]
  },
  {
   "cell_type": "code",
   "execution_count": 51,
   "metadata": {},
   "outputs": [
    {
     "data": {
      "image/png": "[encoded data removed]",
      "text/plain": [
       "<Figure size 720x720 with 2 Axes>"
      ]
     },
     "metadata": {
      "needs_background": "light"
     },
     "output_type": "display_data"
    }
   ],
   "source": [
    "# data test correlations\n",
    "# remove categorical column\n",
    "data= X_test.drop(columns=['Cruise_line'])\n",
    "corr_heatmap(data)"
   ]
  },
  {
   "cell_type": "markdown",
   "metadata": {},
   "source": [
    "### Conclusion:"
   ]
  },
  {
   "cell_type": "markdown",
   "metadata": {},
   "source": [
    "* **I created a function to calculate pearson correlation and draw it in a heatmap. I removed categorical feature from data because its irrelevant to correlation(correlation just for numerical features makes sense!). Then  test & train data passed to it. As we can see there is a strong correlation between 'tonnage', 'passenger', 'length' and 'cabin'.  We should consider that in some cases its just causation not correlation. To overcome this issue we should have strong domain knowledge.**"
   ]
  }
 ],
 "metadata": {
  "kernelspec": {
   "display_name": "Python 3",
   "language": "python",
   "name": "python3"
  },
  "language_info": {
   "codemirror_mode": {
    "name": "ipython",
    "version": 3
   },
   "file_extension": ".py",
   "mimetype": "text/x-python",
   "name": "python",
   "nbconvert_exporter": "python",
   "pygments_lexer": "ipython3",
   "version": "3.6.9"
  }
 },
 "nbformat": 4,
 "nbformat_minor": 2
}
